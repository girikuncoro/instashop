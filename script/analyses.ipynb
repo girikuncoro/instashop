{
 "metadata": {
  "name": "",
  "signature": "sha256:869a4f843b7be2683bee6f2d833457716c3318f482f2f94a77d950712aa7414a"
 },
 "nbformat": 3,
 "nbformat_minor": 0,
 "worksheets": [
  {
   "cells": [
    {
     "cell_type": "code",
     "collapsed": false,
     "input": [
      "# IMPORT\n",
      "%matplotlib inline\n",
      "\n",
      "import numpy as np\n",
      "from pylab import *\n",
      "import json\n",
      "from instagram.client import InstagramAPI\n",
      "from pprint import pprint\n",
      "from urllib import urlopen\n",
      "import nltk\n",
      "from collections import defaultdict\n",
      "import matplotlib.pyplot as plt"
     ],
     "language": "python",
     "metadata": {},
     "outputs": [],
     "prompt_number": 104
    },
    {
     "cell_type": "code",
     "collapsed": false,
     "input": [
      "# CONSTANT\n",
      "client_id = \"ff8b092c952a43b18e6fc41e33da8150\"\n",
      "base_url = \"https://api.instagram.com/v1\"\n",
      "endpoints = \"tags\"\n",
      "query = \"onlineshop\" # Find onlineshop related tags in Instagram\n",
      "url = \"{0}/{1}/search?q={2}&client_id={3}\".format(base_url, endpoints, query, client_id)"
     ],
     "language": "python",
     "metadata": {},
     "outputs": [],
     "prompt_number": 105
    },
    {
     "cell_type": "code",
     "collapsed": false,
     "input": [
      "# Call API for onlineshop hashtags\n",
      "json_data = urlopen(url).read()\n",
      "response = json.loads(json_data)\n",
      "\n",
      "# Count number of posts related to onlineshop tag\n",
      "count_total = 0\n",
      "for i in range(0, len(response['data'])):\n",
      "    count_total += int(response['data'][i]['media_count'])\n",
      "\n",
      "print \"Number of total posts that include online shop hashtags: {0}\".format(count_total)"
     ],
     "language": "python",
     "metadata": {},
     "outputs": [
      {
       "output_type": "stream",
       "stream": "stdout",
       "text": [
        "Number of total posts that include online shop hashtags: 37959406\n"
       ]
      }
     ],
     "prompt_number": 106
    },
    {
     "cell_type": "code",
     "collapsed": false,
     "input": [
      "# Online shops tag with number of posts\n",
      "for i in range(0, len(response['data'])):\n",
      "    print response['data'][i]['name'], response['data'][i]['media_count']"
     ],
     "language": "python",
     "metadata": {},
     "outputs": [
      {
       "output_type": "stream",
       "stream": "stdout",
       "text": [
        "onlineshop 20513562\n",
        "onlineshopping 4080011\n",
        "onlineshopindo 2068223\n",
        "onlineshopph 1911722\n",
        "onlineshopindonesia 1291059\n",
        "onlineshopmurah 1092035\n",
        "onlineshopjakarta 979738\n",
        "onlineshopmalaysia 635242\n",
        "onlineshopsurabaya 389779\n",
        "onlineshopjkt 363664\n",
        "onlineshopbandung 344913\n",
        "onlineshoppingmalaysia 343933\n",
        "onlineshopphilippines 337570\n",
        "onlineshopid 331283\n",
        "onlineshoppingph 308736\n",
        "onlineshopmanila 258817\n",
        "onlineshopmedan 163738\n",
        "onlineshoptrusted 155520\n",
        "onlineshopterpercaya 150220\n",
        "onlineshopsby 131546\n",
        "onlineshops 127523\n",
        "onlineshopmalang 125112\n",
        "onlineshopper 123581\n",
        "onlineshopjogja 103437\n",
        "onlineshopperph 97956\n",
        "onlineshoping 97508\n",
        "onlineshopcebu 92158\n",
        "onlineshopbali 90246\n",
        "onlineshopsolo 87927\n",
        "onlineshophk 83250\n",
        "onlineshopsepatu 82296\n",
        "onlineshopsemarang 79747\n",
        "onlineshopmnl 73127\n",
        "onlineshopinstagram 71338\n",
        "onlineshophijab 60864\n",
        "onlineshop_indo 56677\n",
        "onlineshoptas 56587\n",
        "onlineshopbaju 54576\n",
        "onlineshopbatam 51853\n",
        "onlineshopsamarinda 50047\n",
        "onlineshopdenpasar 50009\n",
        "onlineshoppalembang 49163\n",
        "onlineshoppers 47155\n",
        "onlineshoppingmy 46387\n",
        "onlineshoppe 45077\n",
        "onlineshopind 41940\n",
        "onlineshoppontianak 41611\n",
        "onlineshoppingphilippines 40770\n",
        "onlineshoppping 40681\n",
        "onlineshopbaby 39492\n"
       ]
      }
     ],
     "prompt_number": 107
    },
    {
     "cell_type": "code",
     "collapsed": false,
     "input": [
      "# Classify hashtags by countries and count their posts\n",
      "shopper = {}\n",
      "for i in range(0, len(response['data'])):\n",
      "    shopper[response['data'][i]['name'][10:]] = int(response['data'][i]['media_count'])\n",
      "\n",
      "# Group countries dictionary\n",
      "count_countries = {\"indonesia\": 0, \"malaysia\": 0, \"philippines\": 0, \"hongkong\": 0, \"unknown\": 0}\n",
      "countries = {}\n",
      "countries[\"indonesia\"] = [\"indo\", \"indonesia\", \"murah\", \"jakarta\", \"id\", \"jkt\", \"surabaya\", \n",
      "                        \"terpercaya\", \"sby\", \"malang\", \"bali\", \"jogja\", \"solo\", \"semarang\", \n",
      "                        \"_indo\", \"hijab\", \"batam\", \"baju\", \"ind\", \"tas\", \"sepatu\", \"palembang\", \n",
      "                        \"denpasar\", \"samarinda\", \"medan\", \"bandung\"]\n",
      "countries[\"malaysia\"] = [\"pingmalaysia\", \"pingmy\", \"malaysia\"]\n",
      "countries[\"philippines\"] = [\"pingph\", \"perph\", \"pingphilippines\", \"philippines\", \"pingmanila\", \n",
      "                            \"mnl\", \"cebu\", \"manila\", \"ph\"]\n",
      "countries[\"hongkong\"] = [\"hk\"]\n",
      "countries[\"unknown\"] = [\"\", \"trusted\", \"instagram\", \"pping\", \"pe\", \"sph\", \"ing\", \"ping\", \"per\", \"pers\", \"s\"]\n",
      "\n",
      "# Count posts from countries\n",
      "for country in countries:\n",
      "    for word in countries[country]:\n",
      "        for i in range(0, len(shopper)):\n",
      "            if shopper.keys()[i] == word:\n",
      "                count_countries[country] += shopper[word]\n",
      "\n",
      "pprint(count_countries)"
     ],
     "language": "python",
     "metadata": {},
     "outputs": [
      {
       "output_type": "stream",
       "stream": "stdout",
       "text": [
        "{'hongkong': 83250,\n",
        " 'indonesia': 8346679,\n",
        " 'malaysia': 1025562,\n",
        " 'philippines': 3120856,\n",
        " 'unknown': 25301956}\n"
       ]
      }
     ],
     "prompt_number": 111
    },
    {
     "cell_type": "code",
     "collapsed": false,
     "input": [
      "# Ignore the unknown hashtags\n",
      "total_known = count_total - count_countries['unknown']\n",
      "del count_countries['unknown']\n",
      "print \"Total posts after removing unknown posts: {0}\".format(total_known)\n",
      "\n",
      "# Posts ratio for each country\n",
      "data_tuple = [(country, country_ratio/float(total_known)) for country, country_ratio in count_countries.items()]\n",
      "data_sorted = sorted(data_tuple, key=lambda country: country[1], reverse=True)\n",
      "print data_sorted"
     ],
     "language": "python",
     "metadata": {},
     "outputs": [
      {
       "output_type": "stream",
       "stream": "stdout",
       "text": [
        "Total posts after removing unknown posts: 12657450\n",
        "[('indonesia', 0.6594281628606078), ('philippines', 0.2465627752825411), ('malaysia', 0.08102437694796345), ('hongkong', 0.006577154166123508)]\n"
       ]
      }
     ],
     "prompt_number": 112
    },
    {
     "cell_type": "code",
     "collapsed": false,
     "input": [
      "def plot(tuples, title_name, label, N=10): \n",
      "    val = [data[1] for data in tuples[::-1]]\n",
      "    pos = arange(N) + .5\n",
      "    \n",
      "    barh(pos,val,align='center',color='c')\n",
      "    yticks(pos, [data[0] for data in tuples[::-1]])\n",
      "    xlabel(label)\n",
      "    title(title_name)\n",
      "    grid(True)\n",
      "\n",
      "    show()"
     ],
     "language": "python",
     "metadata": {},
     "outputs": [],
     "prompt_number": 113
    },
    {
     "cell_type": "code",
     "collapsed": false,
     "input": [
      "plot(data_sorted, 'Top countries with most online shop posts based on hashtags', 'Posts ratio in the sample (N={0} millions)'.format(total_known/1000000), len(data_sorted))"
     ],
     "language": "python",
     "metadata": {},
     "outputs": [
      {
       "metadata": {},
       "output_type": "display_data",
       "png": "[encoded data removed]",
       "text": [
        "<matplotlib.figure.Figure at 0x115a0ec50>"
       ]
      }
     ],
     "prompt_number": 114
    },
    {
     "cell_type": "code",
     "collapsed": false,
     "input": [
      "# Product category dictionaries\n",
      "clothing_shop = {\"dress\":1, \"baju\":1, \"jeans\":1, \"kebaya\":1, \"celana\":1, \"bra\":1, \"cardigan\":1, \n",
      "                \"sweater\":1, \"cotton\":1, \"hijab\":1, \"rok\":1, \"skirt\":1, \"miniskirt\":1, \"longskirt\":1,\n",
      "                \"vest\":1, \"hotpants\":1, \"tshirt\":1, \"hijabers\":1, \"jersey\":1, \"tenun\":1, \"kaos\":1}\n",
      "accessory_shop = {\"eyewear\":1, \"kacamata\":1, \"sunglasses\":1, \"glasses\":1, \"kalung\":1, \"anting\":1, \"necklace\":1,\n",
      "                  \"hairclip\":1}\n",
      "footwear_shop = {\"sepatu\":1, \"boots\":1, \"boot\":1, \"shoes\":1, \"footwear\":1, \"nike\":1, \"sneakers\":1, \"wedges\":1, \"sandal\":1}\n",
      "bag_shop = {\"bag\":1, \"tas\":1}\n",
      "gift_shop = {\"kado\":1, \"popupcard\":1, \"popup\":1, \"card\":1, \"hadiah\":1, \"gift\":1}\n",
      "food_shop = {\"coklat\":1, \"chocolate\":1, \"makan\":1, \"kue\":1, \"cake\":1, \"cupcake\":1, \"food\":1}\n",
      "home_shop = {\"lampu\":1, \"sprei\":1, \"bed\":1, \"lampumurah\":1}\n",
      "health_shop = {\"herbal\":1, \"keputihan\":1, \"langsing\":1, \"kesehatan\":1, \"pemutih\":1, \"penyakit\":1, \"healthy\":1,\n",
      "               \"gairah\":1, \"alami\":1, \"sabun\":1, \"alergi\":1, \"reproduksi\":1, \"vagina\":1}\n",
      "beauty_shop = {\"makeup\":1, \"lipstick\":1, \"lips\":1, \"eyeliner\":1, \"kosmetik\":1, \"wajah\":1,\n",
      "               \"flek\":1, \"jerawat\":1, \"shampoo\":1, \"skin\":1}\n",
      "\n",
      "product = {}\n",
      "product[\"clothing\"] = clothing_shop\n",
      "product[\"accessory\"] = accessory_shop\n",
      "product[\"footwear\"] = footwear_shop\n",
      "product[\"bag\"] = bag_shop\n",
      "product[\"gift\"] = gift_shop\n",
      "product[\"food\"] = food_shop\n",
      "product[\"home\"] = home_shop\n",
      "product[\"health\"] = health_shop\n",
      "product[\"beauty\"] = beauty_shop"
     ],
     "language": "python",
     "metadata": {},
     "outputs": [],
     "prompt_number": 116
    },
    {
     "cell_type": "code",
     "collapsed": false,
     "input": [
      "# Classifying products from hashtags in online shop jakarta, bandung, bali and jogja\n",
      "\n",
      "# Getting the cleaned files\n",
      "files = ['../data/data_cleaned_bali.txt','../data/data_cleaned_bdg.txt','../data/data_cleaned_jkt.txt','../data/data_cleaned_jogja.txt']\n",
      "\n",
      "cat_counts = defaultdict(int)\n",
      "text = ''\n",
      "count_line = 0\n",
      "cat_found = 0\n",
      "\n",
      "# Analyzing product categories from the corpus\n",
      "for corpus in files:\n",
      "    f_cleaned = open(corpus, 'r')\n",
      "    for line in f_cleaned.readlines():\n",
      "        data_array = line.split('|')\n",
      "        tokens = nltk.word_tokenize(data_array[6])\n",
      "        text += data_array[6] # Merging corpus\n",
      "        count_line += 1 # Count number of products sold\n",
      "\n",
      "        for cat in product:\n",
      "            for t in tokens:\n",
      "                if t in product[cat]:\n",
      "                    cat_counts[cat] += 1\n",
      "                    cat_found += 1\n",
      "                    break\n",
      "\n",
      "    all_tokens = nltk.word_tokenize(text)\n",
      "    f_cleaned.close()\n",
      "\n",
      "# Printing product categories\n",
      "print \"Product categories\"\n",
      "print \"=======================\"\n",
      "for key in cat_counts:\n",
      "    if key is not 2:\n",
      "        print key,\":\",cat_counts[key]\n",
      "print \"=======================\"\n",
      "print \"total posts:\", count_line\n",
      "print \"total classified:\", cat_found\n",
      "print \"unknown :\", count_line - cat_found"
     ],
     "language": "python",
     "metadata": {},
     "outputs": [
      {
       "output_type": "stream",
       "stream": "stdout",
       "text": [
        "Product categories\n",
        "=======================\n",
        "gift : 3378\n",
        "beauty : 7579\n",
        "food : 2063\n",
        "accessory : 7405\n",
        "bag : 7410\n",
        "health : 8804\n",
        "footwear : 20568\n",
        "home : 1042\n",
        "clothing : 34566\n",
        "=======================\n",
        "total posts: 127708\n",
        "total classified: 92815\n",
        "unknown : 34893\n"
       ]
      }
     ],
     "prompt_number": 123
    },
    {
     "cell_type": "code",
     "collapsed": false,
     "input": [
      "product_ratio = [(product, ratio/float(cat_found)) for product, ratio in cat_counts.items()]\n",
      "cat_sorted = sorted(product_ratio, key=lambda product: product[1], reverse=True)\n",
      "plot(cat_sorted, 'Products sold in Indonesia', 'Product ratio in the sample (N={0})'.format(cat_found), len(cat_sorted))"
     ],
     "language": "python",
     "metadata": {},
     "outputs": [
      {
       "metadata": {},
       "output_type": "display_data",
       "png": "[encoded data removed]",
       "text": [
        "<matplotlib.figure.Figure at 0x10e8fa990>"
       ]
      }
     ],
     "prompt_number": 124
    },
    {
     "cell_type": "code",
     "collapsed": false,
     "input": [],
     "language": "python",
     "metadata": {},
     "outputs": []
    }
   ],
   "metadata": {}
  }
 ]
}